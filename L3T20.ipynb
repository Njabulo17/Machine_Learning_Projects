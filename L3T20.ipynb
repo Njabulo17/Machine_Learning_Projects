{
 "cells": [
  {
   "cell_type": "markdown",
   "source": [
    "# Capstone Project III\n",
    "\n",
    "### For this project, we use recurrent neural networks in Keras to try and classify a movie review as either positive or negative.\n",
    "\n",
    "### Steps:\n",
    "   1. Get the dataset\n",
    "   2. Preprocessing the data\n",
    "   3. Build the Model\n",
    "   4. Train the Model\n",
    "   5. Test the Model\n",
    "   6. Predict something"
   ],
   "metadata": {
    "colab_type": "text",
    "id": "eHGm8RQlK46m"
   }
  },
  {
   "cell_type": "code",
   "execution_count": 319,
   "source": [
    "# Importing required libraries\n",
    "import matplotlib.pyplot as plt\n",
    "from matplotlib import pyplot\n",
    "import numpy as np\n",
    "import re\n",
    "from tensorflow import keras\n",
    "import seaborn as sns\n",
    "from keras.preprocessing import sequence\n",
    "from keras.models import Sequential\n",
    "from keras.layers import Dense, Embedding, Conv1D, GlobalMaxPooling1D, SpatialDropout1D, BatchNormalization, LSTM\n",
    "from sklearn.model_selection import train_test_split"
   ],
   "outputs": [],
   "metadata": {
    "colab": {},
    "colab_type": "code",
    "id": "-erlYw1jXtgh"
   }
  },
  {
   "cell_type": "code",
   "execution_count": 320,
   "source": [
    "# Make results reproducible - set random seed\n",
    "from numpy.random import seed\n",
    "seed(42)"
   ],
   "outputs": [],
   "metadata": {
    "colab": {},
    "colab_type": "code",
    "id": "goZIhX8nII4T"
   }
  },
  {
   "cell_type": "code",
   "execution_count": 321,
   "source": [
    "negative_file = \"negative.txt\"\n",
    "positive_file = \"positive.txt\""
   ],
   "outputs": [],
   "metadata": {
    "colab": {},
    "colab_type": "code",
    "id": "v_fEysQHII4W",
    "tags": []
   }
  },
  {
   "cell_type": "code",
   "execution_count": 322,
   "source": [
    "# Do not modify - helper function to load and preprocess data\n",
    "def filter_words(line):    \n",
    "    line = re.sub(r'[^\\w\\s]','',line.rstrip())\n",
    "    words = line.split(\" \") \n",
    "    words = [i.lower() for i in words if i]      \n",
    "    return \" \".join(words)\n",
    "\n",
    "def load_data(filename):\n",
    "    thefile = open(filename, 'r') \n",
    "    lines = thefile.readlines() \n",
    "\n",
    "    data = []\n",
    "    for l in range(0,len(lines)): \n",
    "        if(lines[l-1].strip() == \"<title>\"): \n",
    "            theline = filter_words(lines[l])\n",
    "            if(len(theline) < 50):\n",
    "                data.append(theline)            \n",
    "            \n",
    "    return data\n",
    "\n",
    "# Helper function to convert categorical data to class label\n",
    "def to_word_label(y):\n",
    "    y = to_class(y)   \n",
    "    return [\"positive\" if i==0 else \"negative\" for i in y]\n",
    "\n",
    "# Helper function to convert class label to numeric label\n",
    "def to_numeric_label(y):\n",
    "    return [0 if i==\"positive\" else 1 for i in word_labels]\n",
    "\n",
    "# Helper function: this function needs to be called before sending arrays to sklearn metrics,\n",
    "# it converts back to class form from categorical form. ie: [1,0] --> 0, [0,1] --> 1\n",
    "def to_class(y):\n",
    "    return np.argmax(y,axis=1) "
   ],
   "outputs": [],
   "metadata": {
    "colab": {},
    "colab_type": "code",
    "id": "0rWm4yycII4Y",
    "tags": []
   }
  },
  {
   "cell_type": "code",
   "execution_count": 323,
   "source": [
    "positive = load_data(positive_file)\n",
    "negative = load_data(negative_file)\n",
    "\n",
    "print(positive[0:10])\n",
    "print(negative[0:10])"
   ],
   "outputs": [
    {
     "output_type": "stream",
     "name": "stdout",
     "text": [
      "['one of the best crichton novels', 'the medicine of the future', 'beautiful', 'for lovers of robicheaux', 'a good book', 'to the point and beautifully illustrated', 'at least somebody has got it', 'beautifully written heartwarming story', 'an excellent cookbook full of delicious recipes', 'an outstanding resource']\n",
      "['horrible book horrible', 'shallow selfindulgence', 'horrible book horrible', 'disappointment', 'a disappointing mess', 'save your money there are better books out there', 'thank you but no thanks', 'unendurable', 'the hard way', 'some good info among the political commercial']\n"
     ]
    }
   ],
   "metadata": {
    "colab": {
     "base_uri": "https://localhost:8080/",
     "height": 70
    },
    "colab_type": "code",
    "id": "jjGUiFm9II4b",
    "outputId": "aa5eb89b-85f2-4d61-f33a-b00361b19a41",
    "tags": []
   }
  },
  {
   "cell_type": "code",
   "execution_count": 324,
   "source": [
    "# Do not modify - Combines the positive and negative reviews into a single list and create labels\n",
    "data = positive + negative\n",
    "word_labels = [\"positive\"] * len(positive) + [\"negative\"] * len(negative) \n",
    "\n",
    "# Converts labels to numbers in one-hot encoding - [1, 0] (positive) or [0, 1] (negative)\n",
    "#from keras.utils import to_categorical\n",
    "labels  = keras.utils.to_categorical(to_numeric_label(word_labels))\n",
    "#print(\"data:\", len(data))\n",
    "#print(\"labels:\", len(labels))\n",
    "print(\"reviews\")\n",
    "data[0:5]"
   ],
   "outputs": [
    {
     "output_type": "stream",
     "name": "stdout",
     "text": [
      "reviews\n"
     ]
    },
    {
     "output_type": "execute_result",
     "data": {
      "text/plain": [
       "['one of the best crichton novels',\n",
       " 'the medicine of the future',\n",
       " 'beautiful',\n",
       " 'for lovers of robicheaux',\n",
       " 'a good book']"
      ]
     },
     "metadata": {},
     "execution_count": 324
    }
   ],
   "metadata": {
    "colab": {},
    "colab_type": "code",
    "id": "yrgEYOOCII4d",
    "tags": []
   }
  },
  {
   "cell_type": "code",
   "execution_count": 325,
   "source": [
    "print(\"labels\")\n",
    "labels[0:5]"
   ],
   "outputs": [
    {
     "output_type": "stream",
     "name": "stdout",
     "text": [
      "labels\n"
     ]
    },
    {
     "output_type": "execute_result",
     "data": {
      "text/plain": [
       "array([[1., 0.],\n",
       "       [1., 0.],\n",
       "       [1., 0.],\n",
       "       [1., 0.],\n",
       "       [1., 0.]], dtype=float32)"
      ]
     },
     "metadata": {},
     "execution_count": 325
    }
   ],
   "metadata": {
    "colab": {},
    "colab_type": "code",
    "id": "yrgEYOOCII4d",
    "tags": []
   }
  },
  {
   "cell_type": "code",
   "execution_count": 326,
   "source": [
    "len(word_labels)"
   ],
   "outputs": [
    {
     "output_type": "execute_result",
     "data": {
      "text/plain": [
       "1793"
      ]
     },
     "metadata": {},
     "execution_count": 326
    }
   ],
   "metadata": {
    "colab": {},
    "colab_type": "code",
    "id": "97Uh2uBpII4l",
    "tags": []
   }
  },
  {
   "cell_type": "code",
   "execution_count": 327,
   "source": [
    "# Write some code to investigate the dataset. \n",
    "# - Calculate and report the mean review size, its standard deviation and create a boxplot.\n",
    "# - Calculate the number of unique words in the dataset\n",
    "# - Perform any other dataset investigation that you feel would be valuable"
   ],
   "outputs": [],
   "metadata": {
    "colab": {},
    "colab_type": "code",
    "id": "97Uh2uBpII4l",
    "tags": []
   }
  },
  {
   "cell_type": "code",
   "execution_count": 328,
   "source": [
    "# Do not modify - Tokenize the vocabulary \n",
    "from keras.preprocessing.text import Tokenizer\n",
    "\n",
    "tokenizer = Tokenizer(num_words=25)\n",
    "\n",
    "tokenizer.fit_on_texts(data) #create the vocabularry\n",
    "\n",
    "tokenized_data = tokenizer.texts_to_sequences(data) #tokenize the data using the vocabulary\n",
    "\n",
    "vocab_size = len(tokenizer.word_index) + 1 \n",
    "\n",
    "# Compare a sample of the data before and after tokenization\n",
    "print(data[0:4])\n",
    "print(tokenized_data[0:4])"
   ],
   "outputs": [
    {
     "output_type": "stream",
     "name": "stdout",
     "text": [
      "['one of the best crichton novels', 'the medicine of the future', 'beautiful', 'for lovers of robicheaux']\n",
      "[[18, 4, 2, 19], [2, 4, 2], [], [6, 4]]\n"
     ]
    }
   ],
   "metadata": {
    "colab": {
     "base_uri": "https://localhost:8080/",
     "height": 50
    },
    "colab_type": "code",
    "id": "_XXnArgcII4i",
    "outputId": "020b2ee2-4c2a-4bc0-bb55-e2ae3841fe57",
    "tags": []
   }
  },
  {
   "cell_type": "markdown",
   "source": [
    "# Pre-processing"
   ],
   "metadata": {
    "colab_type": "text",
    "id": "_vsMmLjdK1Gf"
   }
  },
  {
   "cell_type": "code",
   "execution_count": 329,
   "source": [
    "# Pre-processing\n",
    "# Write some code to pre-process the data so that each review is the same length\n",
    "len(tokenized_data)\n",
    "tokenized_data = sequence.pad_sequences(tokenized_data, maxlen=4)\n",
    "len(tokenized_data)"
   ],
   "outputs": [
    {
     "output_type": "execute_result",
     "data": {
      "text/plain": [
       "1793"
      ]
     },
     "metadata": {},
     "execution_count": 329
    }
   ],
   "metadata": {
    "colab": {},
    "colab_type": "code",
    "id": "24DaXd1zII4q",
    "tags": []
   }
  },
  {
   "cell_type": "code",
   "execution_count": 330,
   "source": [
    "# Write some code to split the data into a training and test set. Make sure you shuffle the data. Use 20% for the test set.\n",
    "X_train, X_test, y_train, y_test = train_test_split(tokenized_data,labels \n",
    "                , test_size=0.20, random_state=42, shuffle=True)"
   ],
   "outputs": [],
   "metadata": {
    "colab": {},
    "colab_type": "code",
    "id": "AFTJcFy6II4s",
    "tags": []
   }
  },
  {
   "cell_type": "code",
   "execution_count": 331,
   "source": [
    "print(\"X_train\", X_train.shape)\n",
    "print(\"X_test\", X_test.shape)\n",
    "print(\"y_train\", y_train.shape)\n",
    "print(\"y_test\", y_test.shape)"
   ],
   "outputs": [
    {
     "output_type": "stream",
     "name": "stdout",
     "text": [
      "X_train (1434, 4)\n",
      "X_test (359, 4)\n",
      "y_train (1434, 2)\n",
      "y_test (359, 2)\n"
     ]
    }
   ],
   "metadata": {
    "colab": {},
    "colab_type": "code",
    "id": "AFTJcFy6II4s",
    "tags": []
   }
  },
  {
   "cell_type": "code",
   "execution_count": 332,
   "source": [
    "from sklearn.metrics import confusion_matrix, precision_score, recall_score, f1_score\n",
    "\n",
    "# Fill in the following function so it\n",
    "# - makes a prediction for the test set given the model\n",
    "# - reports the precision, recall and f1 score. Also print the confusion matrix. \n",
    "# You will need to use the helper to_class function to convert y_pred and y_test before supplying them to the sklearn functions.\n",
    "\n",
    "def assess_model(model, X_test, y_test):\n",
    "    y_pred = model(X_test)\n",
    "    y_pred=model.predict(X_test) \n",
    "    y_pred=np.argmax(y_pred, axis=1)\n",
    "    y_test=np.argmax(y_test, axis=1)    \n",
    "    print(\"precision_score: {}\".format(precision_score(y_pred, y_test)))\n",
    "    print(\"recall_score: {}\".format(recall_score(y_pred, y_test)))\n",
    "    print('F1-score: {0}'.format(f1_score(y_pred, y_test)))\n",
    "    print('Confusion matrix: {}'.format(confusion_matrix(y_pred, y_test)))\n"
   ],
   "outputs": [],
   "metadata": {
    "colab": {
     "base_uri": "https://localhost:8080/",
     "height": 128
    },
    "colab_type": "code",
    "id": "lDth1BSzII4u",
    "outputId": "4614049a-7151-4407-9bc8-54604bbe7fdd"
   }
  },
  {
   "cell_type": "markdown",
   "source": [
    "# Build and tune model"
   ],
   "metadata": {
    "colab_type": "text",
    "id": "nTqLbbE6MpGt"
   }
  },
  {
   "cell_type": "markdown",
   "source": [
    "Define network architecture"
   ],
   "metadata": {
    "colab_type": "text",
    "id": "3X70rA4uMXNv"
   }
  },
  {
   "cell_type": "code",
   "execution_count": 333,
   "source": [
    "model = Sequential()\r\n",
    "model.add(Embedding(input_dim=vocab_size,output_dim=150, input_length=4))\r\n",
    "model.add(SpatialDropout1D(0.2))\r\n",
    "model.add(BatchNormalization())\r\n",
    "model.add(LSTM(32))\r\n",
    "model.add(Dense(2, activation='softmax'))"
   ],
   "outputs": [],
   "metadata": {
    "colab": {},
    "colab_type": "code",
    "id": "wKoXWKG4II5F"
   }
  },
  {
   "cell_type": "markdown",
   "source": [
    "Train model"
   ],
   "metadata": {
    "colab_type": "text",
    "id": "llS0-VKBMbz-"
   }
  },
  {
   "cell_type": "code",
   "execution_count": 334,
   "source": [
    "#compile the model and adjust parameter\r\n",
    "model.compile(optimizer='adam', loss='binary_crossentropy', metrics=['accuracy'])"
   ],
   "outputs": [],
   "metadata": {
    "colab": {},
    "colab_type": "code",
    "id": "F5IJs0QuMe_I"
   }
  },
  {
   "cell_type": "code",
   "execution_count": 335,
   "source": [
    "# fit the model\r\n",
    "hist = model.fit(X_train, y_train,validation_data=(X_test, y_test), epochs=15, batch_size=80)\r\n"
   ],
   "outputs": [
    {
     "output_type": "stream",
     "name": "stdout",
     "text": [
      "Epoch 1/15\n",
      "18/18 [==============================] - 4s 56ms/step - loss: 0.6912 - accuracy: 0.5295 - val_loss: 0.6905 - val_accuracy: 0.5097\n",
      "Epoch 2/15\n",
      "18/18 [==============================] - 0s 13ms/step - loss: 0.6618 - accuracy: 0.6137 - val_loss: 0.6894 - val_accuracy: 0.5376\n",
      "Epoch 3/15\n",
      "18/18 [==============================] - 0s 14ms/step - loss: 0.6455 - accuracy: 0.6397 - val_loss: 0.6881 - val_accuracy: 0.5710\n",
      "Epoch 4/15\n",
      "18/18 [==============================] - 0s 15ms/step - loss: 0.6343 - accuracy: 0.6434 - val_loss: 0.6867 - val_accuracy: 0.5571\n",
      "Epoch 5/15\n",
      "18/18 [==============================] - 0s 15ms/step - loss: 0.6364 - accuracy: 0.6280 - val_loss: 0.6856 - val_accuracy: 0.5627\n",
      "Epoch 6/15\n",
      "18/18 [==============================] - 0s 16ms/step - loss: 0.6324 - accuracy: 0.6283 - val_loss: 0.6844 - val_accuracy: 0.5738\n",
      "Epoch 7/15\n",
      "18/18 [==============================] - 0s 13ms/step - loss: 0.6268 - accuracy: 0.6382 - val_loss: 0.6831 - val_accuracy: 0.5710\n",
      "Epoch 8/15\n",
      "18/18 [==============================] - 0s 14ms/step - loss: 0.6297 - accuracy: 0.6468 - val_loss: 0.6809 - val_accuracy: 0.5682\n",
      "Epoch 9/15\n",
      "18/18 [==============================] - 0s 14ms/step - loss: 0.6401 - accuracy: 0.6095 - val_loss: 0.6797 - val_accuracy: 0.5682\n",
      "Epoch 10/15\n",
      "18/18 [==============================] - 0s 18ms/step - loss: 0.6100 - accuracy: 0.6464 - val_loss: 0.6775 - val_accuracy: 0.5682\n",
      "Epoch 11/15\n",
      "18/18 [==============================] - 0s 14ms/step - loss: 0.6231 - accuracy: 0.6391 - val_loss: 0.6768 - val_accuracy: 0.5682\n",
      "Epoch 12/15\n",
      "18/18 [==============================] - 0s 16ms/step - loss: 0.6122 - accuracy: 0.6589 - val_loss: 0.6738 - val_accuracy: 0.5850\n",
      "Epoch 13/15\n",
      "18/18 [==============================] - 0s 15ms/step - loss: 0.5982 - accuracy: 0.6413 - val_loss: 0.6713 - val_accuracy: 0.5850\n",
      "Epoch 14/15\n",
      "18/18 [==============================] - 0s 13ms/step - loss: 0.5987 - accuracy: 0.6651 - val_loss: 0.6690 - val_accuracy: 0.5877\n",
      "Epoch 15/15\n",
      "18/18 [==============================] - 0s 16ms/step - loss: 0.6118 - accuracy: 0.6421 - val_loss: 0.6654 - val_accuracy: 0.5961\n"
     ]
    }
   ],
   "metadata": {
    "colab": {},
    "colab_type": "code",
    "id": "F5IJs0QuMe_I",
    "scrolled": true
   }
  },
  {
   "cell_type": "markdown",
   "source": [
    "Examine performance of model"
   ],
   "metadata": {
    "colab_type": "text",
    "id": "rniBBEiyMRKD"
   }
  },
  {
   "cell_type": "code",
   "execution_count": 336,
   "source": [
    "print(model.summary())"
   ],
   "outputs": [
    {
     "output_type": "stream",
     "name": "stdout",
     "text": [
      "Model: \"sequential_11\"\n",
      "_________________________________________________________________\n",
      "Layer (type)                 Output Shape              Param #   \n",
      "=================================================================\n",
      "embedding_11 (Embedding)     (None, 4, 150)            384000    \n",
      "_________________________________________________________________\n",
      "spatial_dropout1d_11 (Spatia (None, 4, 150)            0         \n",
      "_________________________________________________________________\n",
      "batch_normalization_11 (Batc (None, 4, 150)            600       \n",
      "_________________________________________________________________\n",
      "lstm_11 (LSTM)               (None, 32)                23424     \n",
      "_________________________________________________________________\n",
      "dense_11 (Dense)             (None, 2)                 66        \n",
      "=================================================================\n",
      "Total params: 408,090\n",
      "Trainable params: 407,790\n",
      "Non-trainable params: 300\n",
      "_________________________________________________________________\n",
      "None\n"
     ]
    }
   ],
   "metadata": {
    "colab": {},
    "colab_type": "code",
    "id": "eBVogHg2II5T",
    "tags": []
   }
  },
  {
   "cell_type": "code",
   "execution_count": 337,
   "source": [
    "scores = model.evaluate(X_test, y_test)\r\n",
    "print('Test score:', scores[0])\r\n",
    "print('Test accuracy:', scores[1])"
   ],
   "outputs": [
    {
     "output_type": "stream",
     "name": "stdout",
     "text": [
      "12/12 [==============================] - 0s 2ms/step - loss: 0.6654 - accuracy: 0.5961\n",
      "Test score: 0.6654401421546936\n",
      "Test accuracy: 0.5961002707481384\n"
     ]
    }
   ],
   "metadata": {
    "colab": {},
    "colab_type": "code",
    "id": "eBVogHg2II5T",
    "tags": []
   }
  },
  {
   "cell_type": "markdown",
   "source": [
    "Plot graphs for accuracy and loss"
   ],
   "metadata": {
    "colab_type": "text",
    "id": "HB8kzt-IME4U"
   }
  },
  {
   "cell_type": "code",
   "execution_count": 338,
   "source": [
    "plt.plot(hist.history['accuracy'])\r\n",
    "plt.plot(hist.history['val_accuracy'])\r\n",
    "\r\n",
    "plt.title('model accuracy')\r\n",
    "plt.ylabel('accuracy')\r\n",
    "plt.xlabel('epoch')\r\n",
    "plt.legend(['train','test'], loc='upper left')\r\n",
    "plt.show()\r\n",
    "\r\n",
    "plt.plot(hist.history['loss'])\r\n",
    "plt.plot(hist.history['val_loss'])\r\n",
    "\r\n",
    "plt.title('model loss')\r\n",
    "plt.ylabel('loss')\r\n",
    "plt.xlabel('epoch')\r\n",
    "plt.legend(['train','test'], loc='upper left')\r\n",
    "plt.show()"
   ],
   "outputs": [
    {
     "output_type": "display_data",
     "data": {
      "image/png": "[encoded data removed]",
      "text/plain": [
       "<Figure size 432x288 with 1 Axes>"
      ]
     },
     "metadata": {
      "needs_background": "light"
     }
    },
    {
     "output_type": "display_data",
     "data": {
      "image/png": "[encoded data removed]",
      "text/plain": [
       "<Figure size 432x288 with 1 Axes>"
      ]
     },
     "metadata": {
      "needs_background": "light"
     }
    }
   ],
   "metadata": {
    "colab": {},
    "colab_type": "code",
    "id": "hPyJ78unMJUI"
   }
  },
  {
   "cell_type": "markdown",
   "source": [
    "# Make a prediction"
   ],
   "metadata": {
    "colab_type": "text",
    "id": "eAZ1LyFBMLoK"
   }
  },
  {
   "cell_type": "code",
   "execution_count": 339,
   "source": [
    "# This is a very small set of completed new data to use to make predictions.\r\n",
    "maxlen = 4\r\n",
    "prediction_data = [\"this book is fabulous\",\"i hated this book\", \"the best\", \"no good\", \"okay\"]\r\n",
    "tokenized = tokenizer.texts_to_sequences(prediction_data)\r\n",
    "padded = sequence.pad_sequences(tokenized, padding='post', maxlen=maxlen)\r\n",
    "\r\n",
    "# Supply this data to each of your models and see how it does. \r\n",
    "# You can call the helper function \"to_word_label\" to map the output of the model to the name of the\r\n",
    "# class it was predicted to belong to."
   ],
   "outputs": [],
   "metadata": {
    "colab": {},
    "colab_type": "code",
    "id": "vfPM5LokII5V",
    "tags": []
   }
  },
  {
   "cell_type": "code",
   "execution_count": 340,
   "source": [
    "y_pred = model.predict(padded)"
   ],
   "outputs": [],
   "metadata": {
    "colab": {},
    "colab_type": "code",
    "id": "vfPM5LokII5V",
    "tags": []
   }
  },
  {
   "cell_type": "code",
   "execution_count": 341,
   "source": [
    "y = to_word_label(y_pred)"
   ],
   "outputs": [],
   "metadata": {}
  },
  {
   "cell_type": "code",
   "execution_count": 342,
   "source": [
    "print(len(prediction_data),prediction_data)\r\n",
    "print(len(y), y)"
   ],
   "outputs": [
    {
     "output_type": "stream",
     "name": "stdout",
     "text": [
      "5 ['this book is fabulous', 'i hated this book', 'the best', 'no good', 'okay']\n",
      "5 ['negative', 'negative', 'positive', 'negative', 'negative']\n"
     ]
    }
   ],
   "metadata": {}
  },
  {
   "cell_type": "markdown",
   "source": [
    "### Assessing the model"
   ],
   "metadata": {}
  },
  {
   "cell_type": "code",
   "execution_count": 343,
   "source": [
    "assess_model(model=model, X_test=X_test, y_test=y_test)"
   ],
   "outputs": [
    {
     "output_type": "stream",
     "name": "stdout",
     "text": [
      "precision_score: 0.7486338797814208\n",
      "recall_score: 0.5805084745762712\n",
      "F1-score: 0.6539379474940333\n",
      "Confusion matrix: [[ 77  46]\n",
      " [ 99 137]]\n"
     ]
    }
   ],
   "metadata": {}
  },
  {
   "cell_type": "markdown",
   "source": [
    "#### Findings"
   ],
   "metadata": {}
  },
  {
   "cell_type": "code",
   "execution_count": 344,
   "source": [
    "# Our model for this sentimental analysis only predicted about 50% of the data given correctly. I think this has to do with the \r\n",
    "# insufficient amount of data the model trained with."
   ],
   "outputs": [],
   "metadata": {}
  }
 ],
 "metadata": {
  "colab": {
   "collapsed_sections": [],
   "name": "L3T20.ipynb",
   "provenance": []
  },
  "kernelspec": {
   "display_name": "Python 3",
   "language": "python",
   "name": "python3"
  },
  "language_info": {
   "codemirror_mode": {
    "name": "ipython",
    "version": 3
   },
   "file_extension": ".py",
   "mimetype": "text/x-python",
   "name": "python",
   "nbconvert_exporter": "python",
   "pygments_lexer": "ipython3",
   "version": "3.7.4"
  }
 },
 "nbformat": 4,
 "nbformat_minor": 1
}